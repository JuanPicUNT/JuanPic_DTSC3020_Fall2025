{
  "nbformat": 4,
  "nbformat_minor": 0,
  "metadata": {
    "colab": {
      "provenance": [],
      "authorship_tag": "ABX9TyNKj2LsAWg8D7NMmTzwsgAJ",
      "include_colab_link": true
    },
    "kernelspec": {
      "name": "python3",
      "display_name": "Python 3"
    },
    "language_info": {
      "name": "python"
    }
  },
  "cells": [
    {
      "cell_type": "markdown",
      "metadata": {
        "id": "view-in-github",
        "colab_type": "text"
      },
      "source": [
        "<a href=\"https://colab.research.google.com/github/JuanPicUNT/JuanPic_DTSC3020_Fall2025/blob/main/assignment2_%3Cjap0706%3E.ipynb\" target=\"_parent\"><img src=\"https://colab.research.google.com/assets/colab-badge.svg\" alt=\"Open In Colab\"/></a>"
      ]
    },
    {
      "cell_type": "code",
      "execution_count": null,
      "metadata": {
        "colab": {
          "base_uri": "https://localhost:8080/"
        },
        "id": "_kQ5BX6K2vHM",
        "outputId": "0468376a-e75e-4ae0-9a11-ebd87f82fa48"
      },
      "outputs": [
        {
          "output_type": "stream",
          "name": "stdout",
          "text": [
            "['apple', 'bannana', 'orange']\n",
            "apple\n",
            "bannana\n",
            "orange\n"
          ]
        }
      ],
      "source": [
        "MyFavFru= [\"apple\", \"bannana\", \"orange\"]\n",
        "print(MyFavFru)\n",
        "print(MyFavFru[0])\n",
        "print(MyFavFru[1])\n",
        "print(MyFavFru[2])"
      ]
    },
    {
      "cell_type": "code",
      "source": [
        "NameList= [\"paul\", \"james\", \"kevin\"]\n",
        "NameList[0]= \"steven\"\n",
        "print(NameList)"
      ],
      "metadata": {
        "colab": {
          "base_uri": "https://localhost:8080/"
        },
        "id": "7-79h6iE7rbZ",
        "outputId": "51c9d3a9-effd-4641-baff-e270e52a4ffa"
      },
      "execution_count": null,
      "outputs": [
        {
          "output_type": "stream",
          "name": "stdout",
          "text": [
            "['steven', 'james', 'kevin']\n"
          ]
        }
      ]
    },
    {
      "cell_type": "code",
      "source": [
        "VehicalList=[\"car\", \"bus\", \"bike\", \"train\", \"plane\"]\n",
        "VehicalList.append(\"boat\")\n",
        "print(VehicalList)"
      ],
      "metadata": {
        "id": "ZX3XonGs-LOf",
        "colab": {
          "base_uri": "https://localhost:8080/"
        },
        "outputId": "09d9de44-f176-4dcd-8aab-7eb94b1bda8f"
      },
      "execution_count": 7,
      "outputs": [
        {
          "output_type": "stream",
          "name": "stdout",
          "text": [
            "['car', 'bus', 'bike', 'train', 'plane', 'boat']\n"
          ]
        }
      ]
    },
    {
      "cell_type": "code",
      "source": [
        "FoodList=[\"pizza\", \"hamburger\", \"hotdog\", \"sandwich\", \"salad\", \"taco\"]\n",
        "FoodList.remove(\"hotdog\")\n",
        "print(FoodList)"
      ],
      "metadata": {
        "colab": {
          "base_uri": "https://localhost:8080/"
        },
        "id": "9WsjQlMoFxae",
        "outputId": "e06110ac-b3ee-4b36-d280-5b1223b3165f"
      },
      "execution_count": 10,
      "outputs": [
        {
          "output_type": "stream",
          "name": "stdout",
          "text": [
            "['pizza', 'hamburger', 'sandwich', 'salad', 'taco']\n"
          ]
        }
      ]
    },
    {
      "cell_type": "code",
      "source": [
        "CityList= [\"dallas\", \"san Antonio\", \"waco\", \"austin\"]\n",
        "CityList.sort()\n",
        "print(CityList)"
      ],
      "metadata": {
        "colab": {
          "base_uri": "https://localhost:8080/"
        },
        "id": "6pQx_gRYGtXE",
        "outputId": "fcf47276-7207-4cb8-ee84-326917b2d877"
      },
      "execution_count": 11,
      "outputs": [
        {
          "output_type": "stream",
          "name": "stdout",
          "text": [
            "['austin', 'dallas', 'san Antonio', 'waco']\n"
          ]
        }
      ]
    },
    {
      "cell_type": "code",
      "source": [
        "AnimalList= [\"cat\", \"dog\", \"tiger\"]\n",
        "for x in AnimalList:\n",
        "    print(x)"
      ],
      "metadata": {
        "colab": {
          "base_uri": "https://localhost:8080/"
        },
        "id": "JHJiwBR3HlSf",
        "outputId": "4f5c436a-2378-4d9a-cb19-9024c81eb416"
      },
      "execution_count": 12,
      "outputs": [
        {
          "output_type": "stream",
          "name": "stdout",
          "text": [
            "cat\n",
            "dog\n",
            "tiger\n"
          ]
        }
      ]
    },
    {
      "cell_type": "code",
      "source": [
        "Number_List= [1,2,3,4,5]\n",
        "for x in Number_List:\n",
        "  print(x*2)"
      ],
      "metadata": {
        "colab": {
          "base_uri": "https://localhost:8080/"
        },
        "id": "UkeYD9hARo6I",
        "outputId": "0aa3cde9-02ee-47d6-b1bf-6ab6247da1df"
      },
      "execution_count": 13,
      "outputs": [
        {
          "output_type": "stream",
          "name": "stdout",
          "text": [
            "2\n",
            "4\n",
            "6\n",
            "8\n",
            "10\n"
          ]
        }
      ]
    },
    {
      "cell_type": "code",
      "source": [
        "FriendList= [\"Alice\", \"Bob\", \"Charlie\", \"David\", \"Eva\", \"Frank\"]\n",
        "print(FriendList[0:3])\n",
        "print(FriendList[3:6])"
      ],
      "metadata": {
        "colab": {
          "base_uri": "https://localhost:8080/"
        },
        "id": "2sIenvGT_JI2",
        "outputId": "7d9370b4-40d2-4e7a-bd88-3bb47170e747"
      },
      "execution_count": 7,
      "outputs": [
        {
          "output_type": "stream",
          "name": "stdout",
          "text": [
            "['Alice', 'Bob', 'Charlie']\n",
            "['David', 'Eva', 'Frank']\n"
          ]
        }
      ]
    },
    {
      "cell_type": "code",
      "source": [
        "RangList= list(range(1,11))\n",
        "print(RangList)"
      ],
      "metadata": {
        "colab": {
          "base_uri": "https://localhost:8080/"
        },
        "id": "OEfp9ZRaEjyJ",
        "outputId": "95b43f1c-3da2-45a1-bdaf-7d4f9bfc9e8a"
      },
      "execution_count": 1,
      "outputs": [
        {
          "output_type": "stream",
          "name": "stdout",
          "text": [
            "[1, 2, 3, 4, 5, 6, 7, 8, 9, 10]\n"
          ]
        }
      ]
    },
    {
      "cell_type": "code",
      "source": [
        "Squares= [x**2 for x in range(1,6)]\n",
        "print (Squares)"
      ],
      "metadata": {
        "colab": {
          "base_uri": "https://localhost:8080/"
        },
        "id": "27KekkIfAFHU",
        "outputId": "071afd87-3a71-4b6e-d2b8-f36f03a6b8bb"
      },
      "execution_count": 5,
      "outputs": [
        {
          "output_type": "stream",
          "name": "stdout",
          "text": [
            "[1, 4, 9, 16, 25]\n"
          ]
        }
      ]
    },
    {
      "cell_type": "code",
      "source": [],
      "metadata": {
        "id": "MfZu5jObDjVv"
      },
      "execution_count": null,
      "outputs": []
    }
  ]
}