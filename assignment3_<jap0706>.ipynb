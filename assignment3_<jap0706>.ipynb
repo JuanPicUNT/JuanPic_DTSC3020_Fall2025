{
  "cells": [
    {
      "cell_type": "markdown",
      "metadata": {
        "id": "view-in-github",
        "colab_type": "text"
      },
      "source": [
        "<a href=\"https://colab.research.google.com/github/JuanPicUNT/JuanPic_DTSC3020_Fall2025/blob/main/assignment3_%3Cjap0706%3E.ipynb\" target=\"_parent\"><img src=\"https://colab.research.google.com/assets/colab-badge.svg\" alt=\"Open In Colab\"/></a>"
      ]
    },
    {
      "cell_type": "markdown",
      "metadata": {
        "id": "nevCG4Qs0b8R"
      },
      "source": [
        "# DTSC 3020 – Assignment 3\n",
        "\n",
        "This exercise focuses on **if statements and conditional logic** in Python and is designed to help students practice decision-making structures.\n",
        "\n",
        "**Total points:** 5  \n",
        "**Deadline:** Friday at midnight  \n",
        "**Submission:** Upload your Python file to your GitHub repository and submit **only your GitHub link**.\n",
        "\n",
        "### Expectations\n",
        "- Write complete answers and run all cells before submission.\n",
        "- Keep the notebook clean (no unnecessary code).\n",
        "\n"
      ],
      "id": "nevCG4Qs0b8R"
    },
    {
      "cell_type": "markdown",
      "metadata": {
        "id": "gfumj0DY0b8f"
      },
      "source": [
        "## Question 1 – Movie Ticket System\n",
        "Write a Python code that checks the price of a movie ticket.\n",
        "If the age is between 0 and 11 it is Child, if between 12 and 17 it is Teen, and if 18 or older it is Adult.\n",
        "Print the category and the ticket price (you choose the price).\n",
        "Run the program with age = 16."
      ],
      "id": "gfumj0DY0b8f"
    },
    {
      "cell_type": "code",
      "metadata": {
        "id": "67TGDT6w0b8k",
        "colab": {
          "base_uri": "https://localhost:8080/"
        },
        "outputId": "b4f5bdaa-6efe-40a0-d685-44b7478ee87e"
      },
      "execution_count": 39,
      "outputs": [
        {
          "output_type": "stream",
          "name": "stdout",
          "text": [
            "What is your age?: 12\n",
            "Category: Teen\n",
            "Price: $17.00 \n"
          ]
        }
      ],
      "source": [
        "Child_tickit= 13.00\n",
        "Teen_ticket= 17.00\n",
        "Adult_tickt= 20.00\n",
        "age= int(input(\"What is your age?: \"))\n",
        "\n",
        "if 0 <= age <= 11:\n",
        "   category= \"chiled\"\n",
        "   price = Child_tickit\n",
        "elif 12 <= age <=17:\n",
        "   category= \"Teen\"\n",
        "   price = Teen_ticket\n",
        "elif age >= 18:\n",
        "   category= \"Adult\"\n",
        "   price = Adult_tickt\n",
        "\n",
        "print(f\"Category: {category}\")\n",
        "print(f\"Price: ${price:.2f} \")\n"
      ],
      "id": "67TGDT6w0b8k"
    },
    {
      "cell_type": "markdown",
      "metadata": {
        "id": "_tUFNVKT0b8r"
      },
      "source": [
        "## Question 2 – Online Store Discount\n",
        "Write a Python code that applies a discount based on the shopping cart total.\n",
        "If the total is less than 50 dollars there is no discount, if the total is between 50 and 99 dollars there is a 10 percent discount, and if the total is 100 dollars or more there is a 20 percent discount.\n",
        "Print the original total, the discount, and the final price.\n",
        "Run the program with cart_total = 85."
      ],
      "id": "_tUFNVKT0b8r"
    },
    {
      "cell_type": "code",
      "metadata": {
        "id": "yTtX719o0b8v",
        "colab": {
          "base_uri": "https://localhost:8080/"
        },
        "outputId": "1af85ee4-ca3e-42d5-8945-438686292337"
      },
      "execution_count": 56,
      "outputs": [
        {
          "output_type": "stream",
          "name": "stdout",
          "text": [
            "Original total: $85.00\n",
            "Discount: $0.10\n",
            "Final price: $76.50\n"
          ]
        }
      ],
      "source": [
        "cart = 85\n",
        "\n",
        "if cart < 50:\n",
        "   discount = 0.00\n",
        "elif 50 <= cart <= 99:\n",
        "  discount =.10\n",
        "else:\n",
        "   discount = .20\n",
        "discount_amount= cart * discount\n",
        "final_price= cart - discount_amount\n",
        "\n",
        "print(f\"Original total: ${cart:.2f}\")\n",
        "print(f\"Discount: ${discount:.2f}\")\n",
        "print(f\"Final price: ${final_price:.2f}\")\n",
        "\n"
      ],
      "id": "yTtX719o0b8v"
    },
    {
      "cell_type": "markdown",
      "metadata": {
        "id": "uOUYYC870b8x"
      },
      "source": [
        "## Question 3 – Exam Grading\n",
        "Write a Python code that gives a letter grade for a score.\n",
        "If the score is between 90 and 100 the grade is A, if between 80 and 89 the grade is B, if between 70 and 79 the grade is C, if between 60 and 69 the grade is D, and if below 60 the grade is F.\n",
        "Print the grade and a short message.\n",
        "Run the program with score = 73."
      ],
      "id": "uOUYYC870b8x"
    },
    {
      "cell_type": "code",
      "metadata": {
        "id": "HDtf_YLG0b8y",
        "colab": {
          "base_uri": "https://localhost:8080/"
        },
        "outputId": "194dfdcc-db87-42ae-e6e6-36ebda80ca50"
      },
      "execution_count": 5,
      "outputs": [
        {
          "output_type": "stream",
          "name": "stdout",
          "text": [
            "your score is a: 73\n",
            "Your grade is: C\n",
            "Not bad but you can do better\n"
          ]
        }
      ],
      "source": [
        "#students score\n",
        "score = 73\n",
        "\n",
        "#scores that match letter grade\n",
        "if 90 <= score <= 100:\n",
        "   grade = \"A\"\n",
        "   #what I wanted to do for each grade (print(f\"great job you have {grade}\"))\n",
        "elif 80 <= score <= 89:\n",
        "   grade = \"B\"\n",
        "elif 70 <= score <= 79:\n",
        "   grade = \"C\"\n",
        "elif 60 <= score <= 69:\n",
        "   grade = \"D\"\n",
        "else:\n",
        "   grade = \"F\"\n",
        "\n",
        "messsages={\n",
        "    \"A\": \"Great job keep it up\",\n",
        "    \"B\": \"Great job\",\n",
        "    \"C\": \"Not bad but you can do better\",\n",
        "    \"D\": \"You need to work harder\",\n",
        "    \"F\": \"You failed\"\n",
        "}\n",
        "\n",
        "print(f\"your score is a: {score}\")\n",
        "print(f\"Your grade is: {grade}\")\n",
        "print(messsages[grade])\n",
        "\n"
      ],
      "id": "HDtf_YLG0b8y"
    },
    {
      "cell_type": "markdown",
      "metadata": {
        "id": "ZCIKM6Xs0b80"
      },
      "source": [
        "## Question 4 – Parking Fee\n",
        "Write a Python code that calculates parking fees.\n",
        "If the car is parked for 0 to 2 hours the parking is free, if the car is parked for 3 to 5 hours the fee is 3 dollars per hour, and if the car is parked for more than 5 hours the fee is 3 dollars per hour for the first three hours after free and then 5 dollars per hour for the rest.\n",
        "Print the number of hours and the total fee.\n",
        "Run the program with hours = 6."
      ],
      "id": "ZCIKM6Xs0b80"
    },
    {
      "cell_type": "code",
      "metadata": {
        "id": "g3a_sPo50b81",
        "colab": {
          "base_uri": "https://localhost:8080/"
        },
        "outputId": "d9bb4cc5-daac-4538-84c0-fbda9859e785"
      },
      "execution_count": 9,
      "outputs": [
        {
          "output_type": "stream",
          "name": "stdout",
          "text": [
            "Hours parked: 6\n",
            "Total fee: $14.00\n"
          ]
        }
      ],
      "source": [
        "Hours_parked = 6\n",
        "\n",
        "if Hours_parked <=2:\n",
        "   Fee= 0\n",
        "elif 3 <= Hours_parked <= 5:\n",
        "   Fee= (Hours_parked - 2) * 3\n",
        "else:\n",
        "   Fee = (3 * 3.0) + (Hours_parked - 5) * 5.0\n",
        "\n",
        "print(f\"Hours parked: {Hours_parked}\")\n",
        "print(f\"Total fee: ${Fee:.2f}\")\n"
      ],
      "id": "g3a_sPo50b81"
    },
    {
      "cell_type": "markdown",
      "metadata": {
        "id": "XBf0-SPz0b83"
      },
      "source": [
        "## Question 5 – Cafeteria Menu\n",
        "Write a Python code that creates a list with three food items.\n",
        "Check if an order is in the list.\n",
        "If the item is in the list print a confirmation, and if the item is not in the list print a polite message.\n",
        "Run the program with menu = ['pizza','salad','sandwich'] and order = 'salad'."
      ],
      "id": "XBf0-SPz0b83"
    },
    {
      "cell_type": "code",
      "metadata": {
        "id": "y52UEMoX0b85",
        "colab": {
          "base_uri": "https://localhost:8080/"
        },
        "outputId": "863b2729-c8f7-4417-d297-a7a0e28aaf95"
      },
      "execution_count": 5,
      "outputs": [
        {
          "output_type": "stream",
          "name": "stdout",
          "text": [
            " salad is available. Your order is confirmed!\n"
          ]
        }
      ],
      "source": [
        "menu = ['pizza','salad','sandwich']\n",
        "order = 'salad'\n",
        "if order in (item for item in menu):\n",
        "   print(f\" {order} is available. Your order is confirmed!\")\n",
        "else:\n",
        "    print(f\"Sorry, we don't have '{order}' today.\")"
      ],
      "id": "y52UEMoX0b85"
    },
    {
      "cell_type": "markdown",
      "metadata": {
        "id": "-60rL71F0b86"
      },
      "source": [
        "## Question 6 – Job Application Filter\n",
        "Write a Python code that checks if a person is eligible for a job.\n",
        "If the person is older than 22 and has more than 2 years of experience print Accepted.\n",
        "Otherwise print Not Accepted.\n",
        "Run the program with age = 23 and experience = 1."
      ],
      "id": "-60rL71F0b86"
    },
    {
      "cell_type": "code",
      "metadata": {
        "id": "-h964CqY0b88",
        "colab": {
          "base_uri": "https://localhost:8080/"
        },
        "outputId": "13565ec6-f35b-4832-d5bf-f4aff277bfab"
      },
      "execution_count": 10,
      "outputs": [
        {
          "output_type": "stream",
          "name": "stdout",
          "text": [
            "Not Accepted\n"
          ]
        }
      ],
      "source": [
        "age = 22\n",
        "experience = 2\n",
        "\n",
        "if age > 22 and experience > 1:\n",
        "     print (\"Accepted\")\n",
        "else :\n",
        "     print (\"Not Accepted\")"
      ],
      "id": "-h964CqY0b88"
    },
    {
      "cell_type": "markdown",
      "metadata": {
        "id": "MOMMxnuE0b8-"
      },
      "source": [
        "## Question 7 – Clothing Advice\n",
        "Write a Python code that suggests clothing based on the temperature.\n",
        "If the temperature is below 10 print Coat and gloves, if the temperature is between 10 and 19 print Jacket, and if the temperature is 20 or more print T-shirt.\n",
        "Run the program with temperature = 15."
      ],
      "id": "MOMMxnuE0b8-"
    },
    {
      "cell_type": "code",
      "metadata": {
        "id": "V6RtrCOa0b8_",
        "colab": {
          "base_uri": "https://localhost:8080/"
        },
        "outputId": "3f2050ad-593f-4ce0-f1a8-ce4e18a5df0e"
      },
      "execution_count": 12,
      "outputs": [
        {
          "output_type": "stream",
          "name": "stdout",
          "text": [
            "Jacket\n"
          ]
        }
      ],
      "source": [
        "temp= 15\n",
        "if temp < 10:\n",
        "  print(\"coat and gloves\")\n",
        "elif 10 <= temp <= 19:\n",
        "  print(\"Jacket\")\n",
        "else:\n",
        "  print(\"T-shirt\")"
      ],
      "id": "V6RtrCOa0b8_"
    },
    {
      "cell_type": "markdown",
      "metadata": {
        "id": "R-i9Jzpn0b9A"
      },
      "source": [
        "## Question 8 – Loan Eligibility\n",
        "Write a Python code that checks loan eligibility.\n",
        "If the salary is at least 3000 and the credit score is at least 650 print Loan Approved, otherwise print Loan Denied.\n",
        "Run the program with salary = 3500 and credit_score = 640."
      ],
      "id": "R-i9Jzpn0b9A"
    },
    {
      "cell_type": "code",
      "metadata": {
        "id": "2M0s0bC40b9B",
        "colab": {
          "base_uri": "https://localhost:8080/"
        },
        "outputId": "886021ee-5e3a-4678-d237-4750db36d39a"
      },
      "execution_count": 14,
      "outputs": [
        {
          "output_type": "stream",
          "name": "stdout",
          "text": [
            "Lone Denied\n"
          ]
        }
      ],
      "source": [
        "salary = 3500\n",
        "credit_score = 640\n",
        "if credit_score >= 650 and salry >= 3000:\n",
        "   print (\"Loan Approved\")\n",
        "else:\n",
        "    print(\"Lone Denied\")\n"
      ],
      "id": "2M0s0bC40b9B"
    },
    {
      "cell_type": "markdown",
      "metadata": {
        "id": "I0WmTyFv0b9D"
      },
      "source": [
        "## Question 9 – Password Strength\n",
        "Write a Python code that checks if a password is strong, medium, or weak based on its length.\n",
        "If the password has fewer than 6 characters it is Weak, if it has 6 to 10 characters it is Medium, and if it has more than 10 characters it is Strong.\n",
        "Print the strength.\n",
        "Run the program with password = 'hello123'."
      ],
      "id": "I0WmTyFv0b9D"
    },
    {
      "cell_type": "code",
      "metadata": {
        "id": "Jm8fu7ft0b9E",
        "colab": {
          "base_uri": "https://localhost:8080/"
        },
        "outputId": "400cec64-900f-4be8-be7f-84a8931d7467"
      },
      "execution_count": 24,
      "outputs": [
        {
          "output_type": "stream",
          "name": "stdout",
          "text": [
            "Password: hello123\n",
            "Password strength: Medium\n"
          ]
        }
      ],
      "source": [
        "password= 'hello123'\n",
        "length= len(password)\n",
        "\n",
        "if length < 6:\n",
        "   strength= \"Weak\"\n",
        "elif 6 < length < 10:\n",
        "   strength= \"Medium\"\n",
        "else:\n",
        "   strength= \"Strong\"\n",
        "\n",
        "print(f\"Password: {password}\")\n",
        "print(f\"Password strength: {strength}\")"
      ],
      "id": "Jm8fu7ft0b9E"
    },
    {
      "cell_type": "markdown",
      "metadata": {
        "id": "kgKSm4WB0b9F"
      },
      "source": [
        "## Question 10 – Guest List Checker\n",
        "Write a Python code that creates a list with three invited guests.\n",
        "Define a variable for a guest name.\n",
        "Check if the guest name is in the list.\n",
        "If the guest is in the list print Welcome, and if the guest is not in the list print Not on the list.\n",
        "Run the program with guest = 'Sara'."
      ],
      "id": "kgKSm4WB0b9F"
    },
    {
      "cell_type": "code",
      "metadata": {
        "id": "4pyiTbMT0b9G",
        "colab": {
          "base_uri": "https://localhost:8080/"
        },
        "outputId": "339a6336-7d2a-4ec3-d3dc-6f91077a7869"
      },
      "execution_count": 25,
      "outputs": [
        {
          "output_type": "stream",
          "name": "stdout",
          "text": [
            "Not on the list\n"
          ]
        }
      ],
      "source": [
        "guest_list= [\"Tom\", \"Steven\", \"Kat\"]\n",
        "Guest = \"Sara\"\n",
        "if Guest in guest_list:\n",
        "   print(\"Welcome\")\n",
        "else:\n",
        "   print(\"Not on the list\")"
      ],
      "id": "4pyiTbMT0b9G"
    }
  ],
  "metadata": {
    "kernelspec": {
      "display_name": "Python 3",
      "language": "python",
      "name": "python3"
    },
    "language_info": {
      "name": "python",
      "version": "3.x"
    },
    "colab": {
      "provenance": [],
      "include_colab_link": true
    }
  },
  "nbformat": 4,
  "nbformat_minor": 5
}