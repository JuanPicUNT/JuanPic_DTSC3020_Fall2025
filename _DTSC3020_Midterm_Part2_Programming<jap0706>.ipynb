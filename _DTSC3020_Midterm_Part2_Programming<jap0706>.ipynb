{
  "cells": [
    {
      "cell_type": "markdown",
      "metadata": {
        "id": "view-in-github",
        "colab_type": "text"
      },
      "source": [
        "<a href=\"https://colab.research.google.com/github/JuanPicUNT/JuanPic_DTSC3020_Fall2025/blob/main/_DTSC3020_Midterm_Part2_Programming%3Cjap0706%3E.ipynb\" target=\"_parent\"><img src=\"https://colab.research.google.com/assets/colab-badge.svg\" alt=\"Open In Colab\"/></a>"
      ]
    },
    {
      "cell_type": "markdown",
      "id": "8e58db4f",
      "metadata": {
        "id": "8e58db4f"
      },
      "source": [
        "# DTSC 3020 — Midterm Exam (Part 2: Programming)\n",
        "University of North Texas\n",
        "\n",
        "**Course:** Introduction to Computation with Python (DTSC 3020)  \n",
        "**Exam:** Midterm — Programming (Ch. 1–8 concepts)\n",
        "\n"
      ]
    },
    {
      "cell_type": "markdown",
      "id": "ed86aaec",
      "metadata": {
        "id": "ed86aaec"
      },
      "source": [
        "---\n",
        "### Instructions\n",
        "- Write clean, readable Python code for each question.\n",
        "- Use only standard Python; no external libraries.\n",
        "- Where required, write a function and return the result.\n",
        "- After each solution cell, there is a **Part 2 — Test Scenario**. Follow the prompt to run your code.\n",
        "\n",
        "---"
      ]
    },
    {
      "cell_type": "markdown",
      "id": "227c4435",
      "metadata": {
        "id": "227c4435"
      },
      "source": [
        "## Question 1 — Create Member ID\n",
        "Write a Python function `create_member_id(full_name)` that creates a Library Member ID from a person’s full name.\n",
        "\n",
        "**Rules**\n",
        "- Normalize the name: remove extra spaces, convert to lowercase, and split by spaces.\n",
        "- Use the last word as the last name (e.g., `\"John Ronald Reuel Tolkien\"` → last name `tolkien`).\n",
        "- Use the first letters of all earlier words as initials (e.g., `jrr` for the example above).\n",
        "- Construct the member ID in this exact format: `lastname_initials` (underscore between them; no spaces).\n",
        "\n",
        "**Examples**\n",
        "- `\"Sara Amini\"` → `amini_sa`\n",
        "- `\"Mary Jane Watson\"` → `watson_mj`\n",
        "- `\"LINA\"` (single word) → use the word for both parts: `lina_l`\n",
        "\n",
        "Part 2 — Test Scenario (run using your function)\n",
        "names = [\"Sara Amini\", \"Ali\", \"Mary Jane\", \"John Smith\", \"LINA\", \"madonna\", \"sara amini\"]\n",
        "\n",
        "\n",
        "\n"
      ]
    },
    {
      "cell_type": "code",
      "execution_count": null,
      "id": "51411a35",
      "metadata": {
        "id": "51411a35",
        "colab": {
          "base_uri": "https://localhost:8080/",
          "height": 323
        },
        "outputId": "f4b55b10-6d74-4cfa-fc99-bf63934f125d"
      },
      "outputs": [
        {
          "output_type": "error",
          "ename": "NameError",
          "evalue": "name 'full' is not defined",
          "traceback": [
            "\u001b[0;31m---------------------------------------------------------------------------\u001b[0m",
            "\u001b[0;31mNameError\u001b[0m                                 Traceback (most recent call last)",
            "\u001b[0;32m/tmp/ipython-input-3005669090.py\u001b[0m in \u001b[0;36m<cell line: 0>\u001b[0;34m()\u001b[0m\n\u001b[1;32m     11\u001b[0m \u001b[0mnames\u001b[0m \u001b[0;34m=\u001b[0m \u001b[0;34m[\u001b[0m\u001b[0;34m\"Sara Amini\"\u001b[0m\u001b[0;34m,\u001b[0m \u001b[0;34m\"Ali\"\u001b[0m\u001b[0;34m,\u001b[0m \u001b[0;34m\"Mary Jane\"\u001b[0m\u001b[0;34m,\u001b[0m \u001b[0;34m\"John Smith\"\u001b[0m\u001b[0;34m,\u001b[0m \u001b[0;34m\"LINA\"\u001b[0m\u001b[0;34m,\u001b[0m \u001b[0;34m\"madonna\"\u001b[0m\u001b[0;34m,\u001b[0m \u001b[0;34m\"sara amini\"\u001b[0m\u001b[0;34m]\u001b[0m\u001b[0;34m\u001b[0m\u001b[0;34m\u001b[0m\u001b[0m\n\u001b[1;32m     12\u001b[0m \u001b[0;32mfor\u001b[0m \u001b[0mname\u001b[0m \u001b[0;32min\u001b[0m \u001b[0mnames\u001b[0m\u001b[0;34m:\u001b[0m\u001b[0;34m\u001b[0m\u001b[0;34m\u001b[0m\u001b[0m\n\u001b[0;32m---> 13\u001b[0;31m     \u001b[0mprint\u001b[0m\u001b[0;34m(\u001b[0m\u001b[0mcreate_member_id\u001b[0m\u001b[0;34m(\u001b[0m\u001b[0mname\u001b[0m\u001b[0;34m)\u001b[0m\u001b[0;34m)\u001b[0m\u001b[0;34m\u001b[0m\u001b[0;34m\u001b[0m\u001b[0m\n\u001b[0m\u001b[1;32m     14\u001b[0m \u001b[0;34m\u001b[0m\u001b[0m\n",
            "\u001b[0;32m/tmp/ipython-input-3005669090.py\u001b[0m in \u001b[0;36mcreate_member_id\u001b[0;34m(full_name)\u001b[0m\n\u001b[1;32m      5\u001b[0m        \u001b[0;32mreturn\u001b[0m \u001b[0;34m\"\"\u001b[0m\u001b[0;34m\u001b[0m\u001b[0;34m\u001b[0m\u001b[0m\n\u001b[1;32m      6\u001b[0m \u001b[0;34m\u001b[0m\u001b[0m\n\u001b[0;32m----> 7\u001b[0;31m     \u001b[0mlast_nam\u001b[0m\u001b[0;34m=\u001b[0m \u001b[0mfull\u001b[0m\u001b[0;34m\u001b[0m\u001b[0;34m\u001b[0m\u001b[0m\n\u001b[0m\u001b[1;32m      8\u001b[0m     \u001b[0mmember_id\u001b[0m \u001b[0;34m=\u001b[0m \u001b[0mlast_name\u001b[0m\u001b[0;34m\u001b[0m\u001b[0;34m\u001b[0m\u001b[0m\n\u001b[1;32m      9\u001b[0m     \u001b[0;32mreturn\u001b[0m \u001b[0mmember_id\u001b[0m\u001b[0;34m\u001b[0m\u001b[0;34m\u001b[0m\u001b[0m\n",
            "\u001b[0;31mNameError\u001b[0m: name 'full' is not defined"
          ]
        }
      ],
      "source": [
        "# Write your answer here for Q1\n",
        "def create_member_id(full_name):\n",
        "    full_name= full_name.lower().strip().split()\n",
        "    if not full_name:\n",
        "       return \"\"\n",
        "\n",
        "    last_nam= full\n",
        "    member_id = last_name\n",
        "    return member_id\n",
        "\n",
        "names = [\"Sara Amini\", \"Ali\", \"Mary Jane\", \"John Smith\", \"LINA\", \"madonna\", \"sara amini\"]\n",
        "for name in names:\n",
        "    print(create_member_id(name))\n",
        "\n"
      ]
    },
    {
      "cell_type": "code",
      "execution_count": null,
      "id": "584ae4f0",
      "metadata": {
        "id": "584ae4f0"
      },
      "outputs": [],
      "source": [
        "# Part 2 — Test Scenario (run using your function)\n",
        "\n"
      ]
    },
    {
      "cell_type": "markdown",
      "id": "c1727720",
      "metadata": {
        "id": "c1727720"
      },
      "source": [
        "## Question 2 — Movie Ticket Booth\n",
        "\n",
        "Write a Python program that simulates a movie ticket booth using this price list:\n",
        "\n",
        "```python\n",
        "prices = {\"adult\": 12.5, \"child\": 8, \"senior\": 9.5, \"student\": 10}\n",
        "```\n",
        "\n",
        "**Program Requirements**\n",
        "- Repeatedly ask the user to enter a ticket type or type `done` to finish.\n",
        "- Valid inputs: `adult`, `child`, `senior`, `student`, or `done`.\n",
        "- If the ticket type exists, add its price to a running total and print a confirmation message.\n",
        "- If it doesn’t exist, print `\"Invalid ticket type\"`.\n",
        "- When the user types `done`, stop and show:\n",
        "  - **Subtotal** (sum of valid ticket prices)\n",
        "  - **Tax** = 8% of subtotal\n",
        "  - **Final total** = subtotal + tax\n"
      ]
    },
    {
      "cell_type": "code",
      "execution_count": 79,
      "id": "4b859e17",
      "metadata": {
        "id": "4b859e17",
        "colab": {
          "base_uri": "https://localhost:8080/"
        },
        "outputId": "0a9f4c60-8483-49d4-fa90-8170de614c21"
      },
      "outputs": [
        {
          "output_type": "stream",
          "name": "stdout",
          "text": [
            "Hello, Welcome\n",
            "Ticket prices — Adult: 12.5, Child: 8, Senior: 9.5, Student: 10\n",
            "Please enter adult, child, senior, student, or 'done': adult\n",
            "Added adult ticket: $12.50 (subtotal: $12.50)\n",
            "Please enter adult, child, senior, student, or 'done': child\n",
            "Added child ticket: $8.00 (subtotal: $20.50)\n",
            "Please enter adult, child, senior, student, or 'done': student\n",
            "Added student ticket: $10.00 (subtotal: $30.50)\n",
            "Please enter adult, child, senior, student, or 'done': done\n",
            "Final Total: $32.94\n"
          ]
        }
      ],
      "source": [
        "# Write your answer here\n",
        "prices = {\"adult\": 12.5, \"child\": 8, \"senior\": 9.5, \"student\": 10}\n",
        "user_inputs = {}  # Stores how many of each item the user added\n",
        "tax= 0\n",
        "TAX_RATE= 0.08\n",
        "subtotal= 0\n",
        "final_total= rinning_total + tax\n",
        "\n",
        "print(\"Hello, Welcome\")\n",
        "print(\"Ticket prices — Adult: 12.5, Child: 8, Senior: 9.5, Student: 10\")\n",
        "\n",
        "while True:\n",
        "    user_input = input(\"Please enter adult, child, senior, student, or 'done': \").strip().lower()\n",
        "\n",
        "    if user_input == \"done\":\n",
        "        break\n",
        "\n",
        "    if user_input in prices:\n",
        "        price = prices[user_input]\n",
        "        subtotal += price\n",
        "        print(f\"Added {user_input} ticket: ${price:.2f} (subtotal: ${subtotal:.2f})\")\n",
        "    else:\n",
        "        print(\"Invalid ticket type\")\n",
        "\n",
        "tax = subtotal * TAX_RATE\n",
        "final_total = subtotal + tax\n",
        "print(f\"Final Total: ${final_total:.2f}\")"
      ]
    },
    {
      "cell_type": "markdown",
      "id": "17b39afe",
      "metadata": {
        "id": "17b39afe"
      },
      "source": [
        "**Part 2 — Example Scenario**\n",
        "When prompted, type the following (each on a new line), then press Enter after each entry:\n",
        "\n",
        "```\n",
        "adult\n",
        "child\n",
        "student\n",
        "done\n",
        "```\n",
        "Your program should complete and display the subtotal, tax, and final total based on these entries.\n"
      ]
    },
    {
      "cell_type": "markdown",
      "id": "28c710b6",
      "metadata": {
        "id": "28c710b6"
      },
      "source": [
        "## Question 3 — Student Grade Analyzer\n",
        "\n",
        "Write a Python function `analyze_grades(grades)` that takes a list of numbers (0–100) and returns three values:\n",
        "1. average grade\n",
        "2. highest grade\n",
        "3. lowest grade\n",
        "\n",
        "**Constraints**\n",
        "- Use a function and return statement(s).\n",
        "- Do not use external libraries.\n"
      ]
    },
    {
      "cell_type": "code",
      "execution_count": null,
      "id": "efce3052",
      "metadata": {
        "id": "efce3052",
        "colab": {
          "base_uri": "https://localhost:8080/"
        },
        "outputId": "4a30902d-8f9e-44c5-88db-49fb188c5541"
      },
      "outputs": [
        {
          "output_type": "stream",
          "name": "stdout",
          "text": [
            "(85.57142857142857, 93, 72)\n"
          ]
        }
      ],
      "source": [
        "# Write your answer here for Q3\n",
        "numb_list = [88, 92, 79, 93, 85, 90, 72]\n",
        "\n",
        "def analyze_grades(grades):\n",
        "    average_grade= sum(grades)/len(grades)\n",
        "    highest_grade= max(grades)\n",
        "    lowest_grade= min(grades)\n",
        "    return average_grade, highest_grade, lowest_grade\n",
        "\n",
        "print(analyze_grades(numb_list))\n"
      ]
    },
    {
      "cell_type": "code",
      "execution_count": null,
      "id": "ad2b0d29",
      "metadata": {
        "id": "ad2b0d29"
      },
      "outputs": [],
      "source": [
        "# Part 2 — Test Scenario\n",
        "sample = [88, 92, 79, 93, 85, 90, 72]\n"
      ]
    },
    {
      "cell_type": "markdown",
      "id": "d378f3c3",
      "metadata": {
        "id": "d378f3c3"
      },
      "source": [
        "## Question 4 — PIN Verification\n",
        "Write a Python program that simulates an ATM PIN verification system.\n",
        "\n",
        "**Requirements**\n",
        "- The correct PIN is `4321`.\n",
        "- The user has at most **3 attempts** to enter the correct PIN.\n",
        "- If the PIN is correct: print `Access granted.` and stop.\n",
        "- If all 3 attempts fail: print `Card blocked.`\n",
        "- After each wrong attempt, also print the counter in the form `Wrong (x/3)`.\n"
      ]
    },
    {
      "cell_type": "code",
      "execution_count": 76,
      "id": "5ea085a2",
      "metadata": {
        "id": "5ea085a2",
        "colab": {
          "base_uri": "https://localhost:8080/"
        },
        "outputId": "095355d5-d924-4957-e14d-75aa2f12e2a9"
      },
      "outputs": [
        {
          "output_type": "stream",
          "name": "stdout",
          "text": [
            "Hello Welcom To The ATM\n",
            "Please enter your PIN: 1111\n",
            "Wrong (1/3)\n",
            "Please enter your PIN: 2222\n",
            "Wrong (2/3)\n",
            "Please enter your PIN: 4321\n",
            "ACCESS GRANTED!\n"
          ]
        }
      ],
      "source": [
        "# Write your answer here\n",
        "print(\"Hello Welcom To The ATM\")\n",
        "attempts= 0\n",
        "attempts_counter= 0\n",
        "while attempts < 3:\n",
        "    user_input= int(input(\"Please enter your PIN: \"))\n",
        "    if user_input == correct_pin:\n",
        "        print(\"ACCESS GRANTED!\")\n",
        "        break\n",
        "    else:\n",
        "        attempts += 1\n",
        "        attempts_counter += 1\n",
        "        print(f\"Wrong ({attempts_counter}/3)\")\n",
        "if attempts == 3:\n",
        "    print(\"Card blocked.\")\n"
      ]
    },
    {
      "cell_type": "markdown",
      "id": "1c61e343",
      "metadata": {
        "id": "1c61e343"
      },
      "source": [
        "**Part 2 — Test Scenario**\n",
        "Run your program and, when prompted, enter these sequences to verify both behaviors:\n",
        "\n",
        "**Scenario A**\n",
        "```\n",
        "1111\n",
        "2222\n",
        "4321\n",
        "```\n",
        "\n",
        "\n"
      ]
    }
  ],
  "metadata": {
    "kernelspec": {
      "display_name": "Python 3",
      "language": "python",
      "name": "python3"
    },
    "language_info": {
      "name": "python",
      "version": "3.x"
    },
    "colab": {
      "provenance": [],
      "include_colab_link": true
    }
  },
  "nbformat": 4,
  "nbformat_minor": 5
}