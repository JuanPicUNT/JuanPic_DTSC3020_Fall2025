{
  "nbformat": 4,
  "nbformat_minor": 0,
  "metadata": {
    "colab": {
      "provenance": [],
      "authorship_tag": "ABX9TyNMC6MWHfrLJTTB/bWpWsQU",
      "include_colab_link": true
    },
    "kernelspec": {
      "name": "python3",
      "display_name": "Python 3"
    },
    "language_info": {
      "name": "python"
    }
  },
  "cells": [
    {
      "cell_type": "markdown",
      "metadata": {
        "id": "view-in-github",
        "colab_type": "text"
      },
      "source": [
        "<a href=\"https://colab.research.google.com/github/JuanPicUNT/JuanPic_DTSC3020_Fall2025/blob/main/assignment1_%3Cjap0706%3E.ipynb\" target=\"_parent\"><img src=\"https://colab.research.google.com/assets/colab-badge.svg\" alt=\"Open In Colab\"/></a>"
      ]
    },
    {
      "cell_type": "code",
      "execution_count": null,
      "metadata": {
        "colab": {
          "base_uri": "https://localhost:8080/"
        },
        "id": "ZHMjXh8YSmuW",
        "outputId": "db1f4816-b34b-48cb-816c-9a749906e6a5"
      },
      "outputs": [
        {
          "output_type": "stream",
          "name": "stdout",
          "text": [
            "Welcom to python\n",
            "Hello World\n",
            "Juan Picon\n"
          ]
        }
      ],
      "source": [
        "print(\"Welcom to python\")\n",
        "print(\"Hello World\")\n",
        "print(\"Juan Picon\")"
      ]
    },
    {
      "cell_type": "code",
      "source": [
        "name= \"Juan Picon\"\n",
        "print (name)\n",
        "print( \"welcom,\", name)\n",
        "print( \"Welcom to python\", name)"
      ],
      "metadata": {
        "colab": {
          "base_uri": "https://localhost:8080/"
        },
        "id": "YtVP3OezTJ4R",
        "outputId": "0aab39d7-c2e1-4504-a582-5048e154b682"
      },
      "execution_count": null,
      "outputs": [
        {
          "output_type": "stream",
          "name": "stdout",
          "text": [
            "Juan Picon\n",
            "welcom, Juan Picon\n",
            "Welcom to python Juan Picon\n"
          ]
        }
      ]
    }
  ]
}