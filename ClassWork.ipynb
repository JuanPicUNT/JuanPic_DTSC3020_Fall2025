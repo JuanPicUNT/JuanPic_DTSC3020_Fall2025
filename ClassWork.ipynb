{
  "nbformat": 4,
  "nbformat_minor": 0,
  "metadata": {
    "colab": {
      "provenance": [],
      "authorship_tag": "ABX9TyNMC6MWHfrLJTTB/bWpWsQU",
      "include_colab_link": true
    },
    "kernelspec": {
      "name": "python3",
      "display_name": "Python 3"
    },
    "language_info": {
      "name": "python"
    }
  },
  "cells": [
    {
      "cell_type": "markdown",
      "metadata": {
        "id": "view-in-github",
        "colab_type": "text"
      },
      "source": [
        "<a href=\"https://colab.research.google.com/github/JuanPicUNT/JuanPic_DTSC3020_Fall2025/blob/main/ClassWork.ipynb\" target=\"_parent\"><img src=\"https://colab.research.google.com/assets/colab-badge.svg\" alt=\"Open In Colab\"/></a>"
      ]
    },
    {
      "cell_type": "code",
      "execution_count": 1,
      "metadata": {
        "colab": {
          "base_uri": "https://localhost:8080/"
        },
        "id": "ZHMjXh8YSmuW",
        "outputId": "1de5a652-a0ab-41ba-d0bb-b652a20b9920"
      },
      "outputs": [
        {
          "output_type": "stream",
          "name": "stdout",
          "text": [
            "Welcom to python\n",
            "Hello World\n",
            "Juan Picon\n"
          ]
        }
      ],
      "source": [
        "print(\"Welcom to python\")\n",
        "print(\"Hello World\")\n",
        "print(\"Juan Picon\")"
      ]
    },
    {
      "cell_type": "code",
      "source": [
        "name= \"Juan Picon\"\n",
        "print (name)\n",
        "print( \"welcom,\", name)\n",
        "print( \"Welcom to python\", name)"
      ],
      "metadata": {
        "colab": {
          "base_uri": "https://localhost:8080/"
        },
        "id": "YtVP3OezTJ4R",
        "outputId": "574c1905-5fc3-4459-cc01-20d80cefa895"
      },
      "execution_count": 8,
      "outputs": [
        {
          "output_type": "stream",
          "name": "stdout",
          "text": [
            "Juan Picon\n",
            "welcom, Juan Picon\n",
            "Welcom to python Juan Picon\n"
          ]
        }
      ]
    }
  ]
}